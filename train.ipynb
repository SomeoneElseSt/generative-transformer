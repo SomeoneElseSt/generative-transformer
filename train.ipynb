{
 "cells": [
  {
   "cell_type": "markdown",
   "id": "df4ba3e3",
   "metadata": {},
   "source": [
    "If I'm going to train a model it should be interesting. \n",
    "\n",
    "\n",
    "It'll use this [dataset] (https://www.kaggle.com/datasets/rtatman/state-of-the-union-corpus-1989-2017?select=Eisenhower_1960.txt) of State of the Union addresses from 1780 to 2018. \n",
    "\n",
    "Let's make a politician :)"
   ]
  },
  {
   "cell_type": "code",
   "execution_count": 2,
   "id": "574c67e6",
   "metadata": {},
   "outputs": [],
   "source": [
    "# Make sure to run preprocessing.py first\n",
    "\n",
    "with open('dataset.txt', 'r', encoding='utf-8') as f:\n",
    "    text = f.read()"
   ]
  },
  {
   "cell_type": "code",
   "execution_count": 3,
   "id": "dc158ba7",
   "metadata": {},
   "outputs": [
    {
     "name": "stdout",
     "output_type": "stream",
     "text": [
      "Number of characters in dataset: 10602521\n"
     ]
    }
   ],
   "source": [
    "print(f\"Number of characters in dataset: {len(text)}\")"
   ]
  },
  {
   "cell_type": "code",
   "execution_count": 4,
   "id": "675d6be7",
   "metadata": {},
   "outputs": [
    {
     "name": "stdout",
     "output_type": "stream",
     "text": [
      "Gentlemen of the Senate and Gentlemen of the House of Representatives:\n",
      "\n",
      "I was for some time apprehensive that it would be necessary, on account of\n",
      "the contagious sickness which afflicted the city of P\n"
     ]
    }
   ],
   "source": [
    "# See first 200 characters\n",
    "print(text[:200])"
   ]
  },
  {
   "cell_type": "code",
   "execution_count": 5,
   "id": "a9c75262",
   "metadata": {},
   "outputs": [
    {
     "name": "stdout",
     "output_type": "stream",
     "text": [
      "All unique characters in this dataset: \t\n",
      " !\"$%&'()*+,-./0123456789:;=?@ABCDEFGHIJKLMNOPQRSTUVWXYZ[\\]_`abcdefghijklmnopqrstuvwxyz\n",
      "\n",
      "Lenght of unique characters: 89\n"
     ]
    }
   ],
   "source": [
    "# Prints all unique chars in the dataset in order \n",
    "chars = sorted(list(set(text)))\n",
    "vocab_size = len(chars)\n",
    "print(f\"All unique characters in this dataset: {''.join(chars)}\\n\")\n",
    "print(f\"Lenght of unique characters: {vocab_size}\")"
   ]
  },
  {
   "cell_type": "code",
   "execution_count": 6,
   "id": "36e6706a",
   "metadata": {},
   "outputs": [
    {
     "name": "stdout",
     "output_type": "stream",
     "text": [
      "Encoded string [54, 77, 80, 66, 81]\n",
      "\n",
      "Decoded string: Words\n"
     ]
    }
   ],
   "source": [
    "# Map characters to integers and viceversa\n",
    "# Only as many mapping as available chars \n",
    "stoi = { ch:i for i,ch in enumerate(chars) }\n",
    "itos = { i:ch for i,ch in enumerate(chars) }\n",
    "\n",
    "# Encoder: str -> int. Decoder: int -> str\n",
    "# stoi: mapping to encode str -> int. itos: mapping to reverse map int -> str.\n",
    "encode = lambda s: [stoi[c] for c in s]\n",
    "decode = lambda l: ''.join([itos[i] for i in l])\n",
    "\n",
    "encoded = encode(\"Words\")\n",
    "print(f\"Encoded string {encoded}\\n\")\n",
    "\n",
    "decoded = decode(encoded)\n",
    "print(f\"Decoded string: {decoded}\")"
   ]
  },
  {
   "cell_type": "markdown",
   "id": "91c6a4a1",
   "metadata": {},
   "source": [
    "Note from video: there are many other tokenizers, eg. sentencepiece (google), tiktoken (openai). They vary in the extent to which they break a word and how they map it."
   ]
  },
  {
   "cell_type": "code",
   "execution_count": 8,
   "id": "4fc1ed6f",
   "metadata": {},
   "outputs": [
    {
     "name": "stdout",
     "output_type": "stream",
     "text": [
      "torch.Size([10602521]) torch.int64\n",
      "tensor([38, 67, 76, 82, 74, 67, 75, 67, 76,  2, 77, 68,  2, 82, 70, 67,  2, 50,\n",
      "        67, 76, 63, 82, 67,  2, 63, 76, 66,  2, 38, 67, 76, 82, 74, 67, 75, 67,\n",
      "        76,  2, 77, 68,  2, 82, 70, 67,  2, 39, 77, 83, 81, 67,  2, 77, 68,  2,\n",
      "        49, 67, 78, 80, 67, 81, 67, 76, 82, 63, 82, 71, 84, 67, 81, 27,  1,  1,\n",
      "        40,  2, 85, 63, 81,  2, 68, 77, 80,  2, 81, 77, 75, 67,  2, 82, 71, 75,\n",
      "        67,  2, 63, 78, 78, 80, 67, 70, 67, 76, 81, 71, 84, 67,  2, 82, 70, 63,\n",
      "        82,  2, 71, 82,  2, 85, 77, 83, 74, 66,  2, 64, 67,  2, 76, 67, 65, 67,\n",
      "        81, 81, 63, 80, 87, 13,  2, 77, 76,  2, 63, 65, 65, 77, 83, 76, 82,  2,\n",
      "        77, 68,  1, 82, 70, 67,  2, 65, 77, 76, 82, 63, 69, 71, 77, 83, 81,  2,\n",
      "        81, 71, 65, 73, 76, 67, 81, 81,  2, 85, 70, 71, 65, 70,  2, 63, 68, 68,\n",
      "        74, 71, 65, 82, 67, 66,  2, 82, 70, 67,  2, 65, 71, 82, 87,  2, 77, 68,\n",
      "         2, 47])\n"
     ]
    }
   ],
   "source": [
    "import torch \n",
    "\n",
    "# Torch tensor creates an array with the encoded dataset.\n",
    "# A tensor is basically an array that supports GPU computing\n",
    "# It's faster for ML/AI and torch comes with configs for this specifically\n",
    "data = torch.tensor(encode(text), dtype=torch.long)\n",
    "\n",
    "print(data.shape, data.dtype)\n",
    "print(data[:200])\n",
    "\n"
   ]
  },
  {
   "cell_type": "code",
   "execution_count": null,
   "id": "fef266ff",
   "metadata": {},
   "outputs": [
    {
     "name": "stdout",
     "output_type": "stream",
     "text": [
      "The model will be trained with 9542268 characters, 1060253 will be set aside for validation\n"
     ]
    }
   ],
   "source": [
    "n = int(0.9 * len(data))\n",
    "\n",
    "# Keep only the 90th of the data for the training data\n",
    "train_data = data[:n]\n",
    "val_data = data[n:]\n",
    "\n",
    "print(f\"The model will be trained with {n} characters, {len(data) - n} will be set aside for validation\")"
   ]
  },
  {
   "cell_type": "code",
   "execution_count": null,
   "id": "b5bf5909",
   "metadata": {},
   "outputs": [
    {
     "data": {
      "text/plain": [
       "tensor([38, 67, 76, 82, 74, 67, 75, 67])"
      ]
     },
     "execution_count": 15,
     "metadata": {},
     "output_type": "execute_result"
    }
   ],
   "source": [
    "# Training Params\n",
    "\n",
    "# How many chars to sample from data for each training run\n",
    "# block_size matters because it will be the upper bound of how much the transformer will infer off of \n",
    "# If it gets inputted anything longer than this it might have a hard time fitting what is **expected** to come afterwards, because it did not see that during training\n",
    "block_size = 8\n",
    "train_data[:block_size+1]\n"
   ]
  },
  {
   "cell_type": "code",
   "execution_count": null,
   "id": "00885056",
   "metadata": {},
   "outputs": [
    {
     "name": "stdout",
     "output_type": "stream",
     "text": [
      "Input tensor([38]) | Target 67\n",
      "Input tensor([38, 67]) | Target 76\n",
      "Input tensor([38, 67, 76]) | Target 82\n",
      "Input tensor([38, 67, 76, 82]) | Target 74\n",
      "Input tensor([38, 67, 76, 82, 74]) | Target 67\n",
      "Input tensor([38, 67, 76, 82, 74, 67]) | Target 75\n",
      "Input tensor([38, 67, 76, 82, 74, 67, 75]) | Target 67\n",
      "Input tensor([38, 67, 76, 82, 74, 67, 75, 67]) | Target 76\n"
     ]
    }
   ],
   "source": [
    "x = train_data[:block_size]\n",
    "y = train_data[1:block_size+1]\n",
    "\n",
    "# X is the normal array of block_size\n",
    "# Y is X shifted one space left (by passing start = 1 it skips the 0-th index)\n",
    "\n",
    "# This creates a relationship where the i-th x element precedes the i-th y element \n",
    "\n",
    "for t in range(block_size):\n",
    "    context = x[:t+1] \n",
    "    target = y[t]  \n",
    "    print(f\"Input {context} | Target {target}\")\n",
    "\n",
    "# This loops print x up to the current t bound \n",
    "# And the char at the t - 1 position that goes after in the sequence\n"
   ]
  },
  {
   "cell_type": "code",
   "execution_count": null,
   "id": "4f92d89c",
   "metadata": {},
   "outputs": [
    {
     "name": "stdout",
     "output_type": "stream",
     "text": [
      "Inputs:\n",
      "torch.Size([4, 8])\n",
      "tensor([[70, 80, 67, 67,  2, 69, 83, 76],\n",
      "        [66,  2, 71, 76, 15,  2, 51, 70],\n",
      "        [82, 70, 67, 80, 74, 63, 76, 66],\n",
      "        [ 2, 82, 70, 67,  2, 64, 71, 69]])\n",
      "Targets\n",
      "torch.Size([4, 8])\n",
      "tensor([[80, 67, 67,  2, 69, 83, 76, 64],\n",
      "        [ 2, 71, 76, 15,  2, 51, 70, 67],\n",
      "        [70, 67, 80, 74, 63, 76, 66, 81],\n",
      "        [82, 70, 67,  2, 64, 71, 69, 69]])\n",
      "Input tensor([70]) | Target 80\n",
      "Input tensor([70, 80]) | Target 67\n",
      "Input tensor([70, 80, 67]) | Target 67\n",
      "Input tensor([70, 80, 67, 67]) | Target 2\n",
      "Input tensor([70, 80, 67, 67,  2]) | Target 69\n",
      "Input tensor([70, 80, 67, 67,  2, 69]) | Target 83\n",
      "Input tensor([70, 80, 67, 67,  2, 69, 83]) | Target 76\n",
      "Input tensor([70, 80, 67, 67,  2, 69, 83, 76]) | Target 64\n",
      "Input tensor([66]) | Target 2\n",
      "Input tensor([66,  2]) | Target 71\n",
      "Input tensor([66,  2, 71]) | Target 76\n",
      "Input tensor([66,  2, 71, 76]) | Target 15\n",
      "Input tensor([66,  2, 71, 76, 15]) | Target 2\n",
      "Input tensor([66,  2, 71, 76, 15,  2]) | Target 51\n",
      "Input tensor([66,  2, 71, 76, 15,  2, 51]) | Target 70\n",
      "Input tensor([66,  2, 71, 76, 15,  2, 51, 70]) | Target 67\n",
      "Input tensor([82]) | Target 70\n",
      "Input tensor([82, 70]) | Target 67\n",
      "Input tensor([82, 70, 67]) | Target 80\n",
      "Input tensor([82, 70, 67, 80]) | Target 74\n",
      "Input tensor([82, 70, 67, 80, 74]) | Target 63\n",
      "Input tensor([82, 70, 67, 80, 74, 63]) | Target 76\n",
      "Input tensor([82, 70, 67, 80, 74, 63, 76]) | Target 66\n",
      "Input tensor([82, 70, 67, 80, 74, 63, 76, 66]) | Target 81\n",
      "Input tensor([2]) | Target 82\n",
      "Input tensor([ 2, 82]) | Target 70\n",
      "Input tensor([ 2, 82, 70]) | Target 67\n",
      "Input tensor([ 2, 82, 70, 67]) | Target 2\n",
      "Input tensor([ 2, 82, 70, 67,  2]) | Target 64\n",
      "Input tensor([ 2, 82, 70, 67,  2, 64]) | Target 71\n",
      "Input tensor([ 2, 82, 70, 67,  2, 64, 71]) | Target 69\n",
      "Input tensor([ 2, 82, 70, 67,  2, 64, 71, 69]) | Target 69\n"
     ]
    }
   ],
   "source": [
    "torch.manual_seed(1234)\n",
    "batch_size = 4 # How many sequences to process in each training run \n",
    "block_size = 8 # The maximum context lenght for each prediction \n",
    "\n",
    "def get_batch(split):\n",
    "    data = train_data if split == 'train' else val_data\n",
    "    # Creates random offsets to sample blocks from \n",
    "    ix = torch.randint(len(data) - block_size, (batch_size,))\n",
    "    x = torch.stack([data[i:i+block_size] for i in ix])\n",
    "    # Y is the tensor that is offset by one for prediction\n",
    "    y = torch.stack([data[i+1:i+block_size+1] for i in ix])\n",
    "    # torch.stack stacks by rows all the pairs\n",
    "    return x, y\n",
    "\n",
    "xb, yb = get_batch('train')\n",
    "\n",
    "print(\"Inputs:\")\n",
    "print(xb.shape)\n",
    "print(xb)\n",
    "print(\"Targets\")\n",
    "print(yb.shape)\n",
    "print(yb)\n",
    "\n",
    "for b in range(batch_size):\n",
    "    for t in range(block_size):\n",
    "        context = xb[b,:t+1]\n",
    "        target = yb[b,t]\n",
    "        print(f\"Input {context} | Target {target}\")"
   ]
  },
  {
   "cell_type": "markdown",
   "id": "e1b8d531",
   "metadata": {},
   "source": [
    "Some notes so far:\n",
    "\n",
    "The core of the code above is separating the original encoded train set into two splits: one that is the same as the original and one that is offset by 1 (X).\n",
    "\n",
    "The offset by 1 tensor will be used as the 'target'. The transformer will see pairs of varying block sizes with X as the base and Y as the target by which we will adjust the weights to lower the loss function depending on the accuracy of the model's guesses. \n"
   ]
  },
  {
   "cell_type": "code",
   "execution_count": null,
   "id": "ac11abac",
   "metadata": {},
   "outputs": [],
   "source": []
  }
 ],
 "metadata": {
  "kernelspec": {
   "display_name": ".venv",
   "language": "python",
   "name": "python3"
  },
  "language_info": {
   "codemirror_mode": {
    "name": "ipython",
    "version": 3
   },
   "file_extension": ".py",
   "mimetype": "text/x-python",
   "name": "python",
   "nbconvert_exporter": "python",
   "pygments_lexer": "ipython3",
   "version": "3.12.2"
  }
 },
 "nbformat": 4,
 "nbformat_minor": 5
}
