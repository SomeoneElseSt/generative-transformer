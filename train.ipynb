{
 "cells": [
  {
   "cell_type": "markdown",
   "id": "df4ba3e3",
   "metadata": {},
   "source": [
    "If I'm going to train a model it should be interesting. \n",
    "\n",
    "\n",
    "It'll use this [dataset] (https://www.kaggle.com/datasets/rtatman/state-of-the-union-corpus-1989-2017?select=Eisenhower_1960.txt) of State of the Union addresses from 1780 to 2018. \n",
    "\n",
    "Let's make a politician :)"
   ]
  },
  {
   "cell_type": "code",
   "execution_count": 1,
   "id": "574c67e6",
   "metadata": {},
   "outputs": [],
   "source": [
    "# Make sure to run preprocessing.py first\n",
    "\n",
    "with open('dataset.txt', 'r', encoding='utf-8') as f:\n",
    "    text = f.read()"
   ]
  },
  {
   "cell_type": "code",
   "execution_count": 3,
   "id": "dc158ba7",
   "metadata": {},
   "outputs": [
    {
     "name": "stdout",
     "output_type": "stream",
     "text": [
      "Number of characters in dataset: 10602521\n"
     ]
    }
   ],
   "source": [
    "print(f\"Number of characters in dataset: {len(text)}\")"
   ]
  },
  {
   "cell_type": "code",
   "execution_count": 6,
   "id": "675d6be7",
   "metadata": {},
   "outputs": [
    {
     "name": "stdout",
     "output_type": "stream",
     "text": [
      "Gentlemen of the Senate and Gentlemen of the House of Representatives:\n",
      "\n",
      "I was for some time apprehensive that it would be necessary, on account of\n",
      "the contagious sickness which afflicted the city of P\n"
     ]
    }
   ],
   "source": [
    "# See first 200 characters\n",
    "print(text[:200])"
   ]
  },
  {
   "cell_type": "code",
   "execution_count": 10,
   "id": "a9c75262",
   "metadata": {},
   "outputs": [
    {
     "name": "stdout",
     "output_type": "stream",
     "text": [
      "All unique characters in this dataset: \t\n",
      " !\"$%&'()*+,-./0123456789:;=?@ABCDEFGHIJKLMNOPQRSTUVWXYZ[\\]_`abcdefghijklmnopqrstuvwxyz\n",
      "\n",
      "Lenght of unique characters: 89\n"
     ]
    }
   ],
   "source": [
    "# Prints all unique chars in the dataset in order \n",
    "chars = sorted(list(set(text)))\n",
    "vocab_size = len(chars)\n",
    "print(f\"All unique characters in this dataset: {''.join(chars)}\\n\")\n",
    "print(f\"Lenght of unique characters: {vocab_size}\")"
   ]
  },
  {
   "cell_type": "code",
   "execution_count": null,
   "id": "36e6706a",
   "metadata": {},
   "outputs": [
    {
     "name": "stdout",
     "output_type": "stream",
     "text": [
      "Encoded string [54, 77, 80, 66, 81]\n",
      "\n",
      "Decoded string: Words\n"
     ]
    }
   ],
   "source": [
    "# Map characters to integers and viceversa\n",
    "# Only as many mapping as available chars \n",
    "stoi = { ch:i for i,ch in enumerate(chars) }\n",
    "itos = { i:ch for i,ch in enumerate(chars) }\n",
    "\n",
    "# Encoder: str -> int. Decoder: int -> str\n",
    "# stoi: mapping to encode str -> int. itos: mapping to reverse map int -> str.\n",
    "encode = lambda s: [stoi[c] for c in s]\n",
    "decode = lambda l: ''.join([itos[i] for i in l])\n",
    "\n",
    "encoded = encode(\"Words\")\n",
    "print(f\"Encoded string {encoded}\\n\")\n",
    "\n",
    "decoded = decode(encoded)\n",
    "print(f\"Decoded string: {decoded}\")"
   ]
  },
  {
   "cell_type": "markdown",
   "id": "91c6a4a1",
   "metadata": {},
   "source": [
    "Note from video: there are many other tokenizers, eg. sentencepiece (google), tiktoken (openai). They vary in the extent to which they break a word and how they map it."
   ]
  },
  {
   "cell_type": "code",
   "execution_count": null,
   "id": "4fc1ed6f",
   "metadata": {},
   "outputs": [],
   "source": []
  }
 ],
 "metadata": {
  "kernelspec": {
   "display_name": ".venv",
   "language": "python",
   "name": "python3"
  },
  "language_info": {
   "codemirror_mode": {
    "name": "ipython",
    "version": 3
   },
   "file_extension": ".py",
   "mimetype": "text/x-python",
   "name": "python",
   "nbconvert_exporter": "python",
   "pygments_lexer": "ipython3",
   "version": "3.12.2"
  }
 },
 "nbformat": 4,
 "nbformat_minor": 5
}
